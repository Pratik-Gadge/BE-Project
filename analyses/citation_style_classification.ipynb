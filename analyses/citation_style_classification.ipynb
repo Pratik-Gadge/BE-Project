{
 "cells": [
  {
   "cell_type": "markdown",
   "metadata": {},
   "source": [
    "# Inferring citation style from the reference string\n",
    "Dominika Tkaczyk\n",
    "\n",
    "3.08.2019\n",
    "\n",
    "This notebook contains the experiments related to inferring citation style from the reference string. The main goal is to build a supervised classifier able to classify the given reference string into one of the known styles or \"unknown\"."
   ]
  },
  {
   "cell_type": "code",
   "execution_count": 1,
   "metadata": {},
   "outputs": [],
   "source": [
    "%matplotlib inline\n",
    "\n",
    "import warnings\n",
    "warnings.simplefilter('ignore')\n",
    "\n",
    "import logging\n",
    "import matplotlib.pyplot as plt\n",
    "import numpy as np\n",
    "import pandas as pd\n",
    "import re\n",
    "import seaborn as sns\n",
    "\n",
    "from styleclass.settings import STYLES\n",
    "from styleclass.features import get_default_training_dataset, clean_dataset, add_noise, \\\n",
    "    generate_unknown, tokens_to_classes, get_tfidf_features, get_features, select_features_rf, \\\n",
    "    select_features_chi2, get_default_test_dataset\n",
    "from styleclass.classify import evaluate_cv, evaluate_model\n",
    "\n",
    "from random import randint, seed, sample\n",
    "from sklearn.ensemble import RandomForestClassifier\n",
    "from sklearn.feature_selection import chi2\n",
    "from sklearn.linear_model import LogisticRegression\n",
    "from sklearn.metrics import accuracy_score, confusion_matrix\n",
    "from sklearn.model_selection import train_test_split\n",
    "from sklearn.naive_bayes import MultinomialNB\n",
    "from sklearn.svm import LinearSVC\n",
    "from statistics import mean"
   ]
  },
  {
   "cell_type": "markdown",
   "metadata": {},
   "source": [
    "I am using the following 17 styles in these experiments:"
   ]
  },
  {
   "cell_type": "code",
   "execution_count": 2,
   "metadata": {},
   "outputs": [
    {
     "data": {
      "text/plain": [
       "['acm-sig-proceedings',\n",
       " 'american-chemical-society',\n",
       " 'american-chemical-society-with-titles',\n",
       " 'american-institute-of-physics',\n",
       " 'american-sociological-association',\n",
       " 'apa',\n",
       " 'bmc-bioinformatics',\n",
       " 'chicago-author-date',\n",
       " 'elsevier-without-titles',\n",
       " 'elsevier-with-titles',\n",
       " 'harvard3',\n",
       " 'ieee',\n",
       " 'iso690-author-date-en',\n",
       " 'modern-language-association',\n",
       " 'springer-basic-author-date',\n",
       " 'springer-lecture-notes-in-computer-science',\n",
       " 'vancouver']"
      ]
     },
     "execution_count": 2,
     "metadata": {},
     "output_type": "execute_result"
    }
   ],
   "source": [
    "STYLES"
   ]
  },
  {
   "cell_type": "markdown",
   "metadata": {},
   "source": [
    "## Preparing the data\n",
    "\n",
    "### Reading the data\n",
    "\n",
    "The data for the experiments was generated automatically by formatting 5k metadata records (randomly chosen from the Crossref collection) into 17 styles. This resulted in 85k pairs (reference string, citation style name). I also keep the DOI of the metadata record used to generate the reference string."
   ]
  },
  {
   "cell_type": "code",
   "execution_count": 3,
   "metadata": {},
   "outputs": [
    {
     "name": "stdout",
     "output_type": "stream",
     "text": [
      "Dataset size: 85000\n"
     ]
    },
    {
     "data": {
      "text/html": [
       "<div>\n",
       "<style scoped>\n",
       "    .dataframe tbody tr th:only-of-type {\n",
       "        vertical-align: middle;\n",
       "    }\n",
       "\n",
       "    .dataframe tbody tr th {\n",
       "        vertical-align: top;\n",
       "    }\n",
       "\n",
       "    .dataframe thead th {\n",
       "        text-align: right;\n",
       "    }\n",
       "</style>\n",
       "<table border=\"1\" class=\"dataframe\">\n",
       "  <thead>\n",
       "    <tr style=\"text-align: right;\">\n",
       "      <th></th>\n",
       "      <th>doi</th>\n",
       "      <th>style</th>\n",
       "      <th>string</th>\n",
       "    </tr>\n",
       "  </thead>\n",
       "  <tbody>\n",
       "    <tr>\n",
       "      <th>0</th>\n",
       "      <td>10.3917/rne.044.0267</td>\n",
       "      <td>acm-sig-proceedings</td>\n",
       "      <td>[1]Lecouvey, G. et al. 2012. Les apports de la...</td>\n",
       "    </tr>\n",
       "    <tr>\n",
       "      <th>1</th>\n",
       "      <td>10.3917/rne.044.0267</td>\n",
       "      <td>american-chemical-society</td>\n",
       "      <td>(1) Lecouvey, G.; Gonneaud, J.; Eustache, F.; ...</td>\n",
       "    </tr>\n",
       "    <tr>\n",
       "      <th>2</th>\n",
       "      <td>10.3917/rne.044.0267</td>\n",
       "      <td>american-chemical-society-with-titles</td>\n",
       "      <td>(1) Lecouvey, G.; Gonneaud, J.; Eustache, F.; ...</td>\n",
       "    </tr>\n",
       "    <tr>\n",
       "      <th>3</th>\n",
       "      <td>10.3917/rne.044.0267</td>\n",
       "      <td>american-institute-of-physics</td>\n",
       "      <td>1 G. Lecouvey, J. Gonneaud, F. Eustache, and B...</td>\n",
       "    </tr>\n",
       "    <tr>\n",
       "      <th>4</th>\n",
       "      <td>10.3917/rne.044.0267</td>\n",
       "      <td>american-sociological-association</td>\n",
       "      <td>Lecouvey, Grégory, Julie Gonneaud, Francis Eus...</td>\n",
       "    </tr>\n",
       "  </tbody>\n",
       "</table>\n",
       "</div>"
      ],
      "text/plain": [
       "                    doi                                  style  \\\n",
       "0  10.3917/rne.044.0267                    acm-sig-proceedings   \n",
       "1  10.3917/rne.044.0267              american-chemical-society   \n",
       "2  10.3917/rne.044.0267  american-chemical-society-with-titles   \n",
       "3  10.3917/rne.044.0267          american-institute-of-physics   \n",
       "4  10.3917/rne.044.0267      american-sociological-association   \n",
       "\n",
       "                                              string  \n",
       "0  [1]Lecouvey, G. et al. 2012. Les apports de la...  \n",
       "1  (1) Lecouvey, G.; Gonneaud, J.; Eustache, F.; ...  \n",
       "2  (1) Lecouvey, G.; Gonneaud, J.; Eustache, F.; ...  \n",
       "3  1 G. Lecouvey, J. Gonneaud, F. Eustache, and B...  \n",
       "4  Lecouvey, Grégory, Julie Gonneaud, Francis Eus...  "
      ]
     },
     "execution_count": 3,
     "metadata": {},
     "output_type": "execute_result"
    }
   ],
   "source": [
    "dataset = get_default_training_dataset()\n",
    "print('Dataset size: {}'.format(dataset.shape[0]))\n",
    "dataset.head()"
   ]
  },
  {
   "cell_type": "markdown",
   "metadata": {},
   "source": [
    "Let's see example entries for each style:"
   ]
  },
  {
   "cell_type": "code",
   "execution_count": 4,
   "metadata": {},
   "outputs": [
    {
     "name": "stdout",
     "output_type": "stream",
     "text": [
      "acm-sig-proceedings\n",
      "[1]2015. Frontmatter. Zeitschrift für Naturforschung C. 70, 9-10 (Sep. 2015), i–iii.\n",
      "\n",
      "american-chemical-society\n",
      "(1) Zeitschrift für Naturforschung C 2015, 70, i–iii.\n",
      "\n",
      "american-chemical-society-with-titles\n",
      "(1) Frontmatter. Zeitschrift für Naturforschung C 2015, 70, i–iii.\n",
      "\n",
      "american-institute-of-physics\n",
      "1Zeitschrift Für Naturforschung C 70, i (2015).\n",
      "\n",
      "american-sociological-association\n",
      "Anon. 2015. “Frontmatter.” Zeitschrift für Naturforschung C 70(9-10):i–iii. Retrieved (http://dx.doi.org/10.1515/znc-2015-frontmatter9-10).\n",
      "\n",
      "apa\n",
      "Frontmatter. (2015). Zeitschrift Für Naturforschung C, 70(9-10), i–iii. doi:10.1515/znc-2015-frontmatter9-10\n",
      "\n",
      "bmc-bioinformatics\n",
      "1. Frontmatter. Zeitschrift für Naturforschung C 2015, 70:i–iii.\n",
      "\n",
      "chicago-author-date\n",
      "“Frontmatter.” 2015. Zeitschrift Für Naturforschung C 70 (9-10) (September 1): i–iii. doi:10.1515/znc-2015-frontmatter9-10. http://dx.doi.org/10.1515/znc-2015-frontmatter9-10.\n",
      "\n",
      "elsevier-with-titles\n",
      "[1]Frontmatter, Zeitschrift Für Naturforschung C. 70 (2015) i–iii.\n",
      "\n",
      "elsevier-without-titles\n",
      "[1]Zeitschrift Für Naturforschung C 70 (2015) i.\n",
      "\n",
      "harvard3\n",
      "Anon, 2015. Frontmatter. Zeitschrift für Naturforschung C, 70(9-10), pp.i–iii. Available at: http://dx.doi.org/10.1515/znc-2015-frontmatter9-10.\n",
      "\n",
      "ieee\n",
      "[1]“Frontmatter,” Zeitschrift für Naturforschung C, vol. 70, no. 9–10, pp. i–iii, Sep. 2015.\n",
      "\n",
      "iso690-author-date-en\n",
      "Frontmatter, 2015. Zeitschrift für Naturforschung C [online], Vol. 70, no. 9-10, p. i–iii. DOI 10.1515/znc-2015-frontmatter9-10. Available from: http://dx.doi.org/10.1515/znc-2015-frontmatter9-10\n",
      "\n",
      "modern-language-association\n",
      "“Frontmatter.” Zeitschrift für Naturforschung C 70.9-10 (2015): i–iii. Crossref. Web.\n",
      "\n",
      "springer-basic-author-date\n",
      "(2015) Frontmatter. Zeitschrift für Naturforschung C 70:i–iii. doi: 10.1515/znc-2015-frontmatter9-10\n",
      "\n",
      "springer-lecture-notes-in-computer-science\n",
      "1.Frontmatter. Zeitschrift für Naturforschung C. 70, i–iii (2015).\n",
      "\n",
      "vancouver\n",
      "1. Frontmatter. Zeitschrift für Naturforschung C [Internet]. Walter de Gruyter GmbH; 2015 Sep 1;70(9-10):i–iii. Available from: http://dx.doi.org/10.1515/znc-2015-frontmatter9-10\n"
     ]
    }
   ],
   "source": [
    "seed(10)\n",
    "examples = dataset.groupby('style').nth(randint(0, 4999)).reset_index()\n",
    "print('\\n\\n'.join(['{}\\n{}'.format(s, t) for s, t in zip(examples['style'].tolist(),\n",
    "                                                         examples['string'].tolist())]))"
   ]
  },
  {
   "cell_type": "markdown",
   "metadata": {},
   "source": [
    "### Data cleaning\n",
    "\n",
    "First, let's get rid of null and very short reference strings. We also remove fragments like DOIs, because \"real\" reference strings rarely contain those and we do not want our models to rely on their presence."
   ]
  },
  {
   "cell_type": "code",
   "execution_count": 5,
   "metadata": {},
   "outputs": [
    {
     "name": "stdout",
     "output_type": "stream",
     "text": [
      "Dataset size: 82808\n"
     ]
    }
   ],
   "source": [
    "dataset = clean_dataset(dataset)\n",
    "print('Dataset size: {}'.format(dataset.shape[0]))"
   ]
  },
  {
   "cell_type": "markdown",
   "metadata": {},
   "source": [
    "Reference strings generated automatically are also a bit too perfect. For example, all strings of american-chemical-society style are prefixed by \"(1)\". This prefix alone would be enough for the learning algorithm to assign a string to this style. On the other hand, we cannot expect all strings \"in real life\" to have a proper prefix (some tools/extractors might strip this).\n",
    "\n",
    "Also, the strings were generated from rich metadata records, and as a result, contain fragments such as the names of the months from the publication date. In practise, however, the dates are typically given as years only (\"(1997)\" instead of \"(Mar 1997)\").\n",
    "\n",
    "To make the dataset a bit less perfect, let's remove such fragments from some of the references (randomly chosen):"
   ]
  },
  {
   "cell_type": "code",
   "execution_count": 6,
   "metadata": {},
   "outputs": [
    {
     "data": {
      "text/html": [
       "<div>\n",
       "<style scoped>\n",
       "    .dataframe tbody tr th:only-of-type {\n",
       "        vertical-align: middle;\n",
       "    }\n",
       "\n",
       "    .dataframe tbody tr th {\n",
       "        vertical-align: top;\n",
       "    }\n",
       "\n",
       "    .dataframe thead th {\n",
       "        text-align: right;\n",
       "    }\n",
       "</style>\n",
       "<table border=\"1\" class=\"dataframe\">\n",
       "  <thead>\n",
       "    <tr style=\"text-align: right;\">\n",
       "      <th></th>\n",
       "      <th>doi</th>\n",
       "      <th>style</th>\n",
       "      <th>string</th>\n",
       "    </tr>\n",
       "  </thead>\n",
       "  <tbody>\n",
       "    <tr>\n",
       "      <th>0</th>\n",
       "      <td>10.3917/rne.044.0267</td>\n",
       "      <td>acm-sig-proceedings</td>\n",
       "      <td>[1]Lecouvey, G. et al. 2012. Les apports de la...</td>\n",
       "    </tr>\n",
       "    <tr>\n",
       "      <th>1</th>\n",
       "      <td>10.3917/rne.044.0267</td>\n",
       "      <td>american-chemical-society</td>\n",
       "      <td>Lecouvey, G.; Gonneaud, J.; Eustache, F.; Desg...</td>\n",
       "    </tr>\n",
       "    <tr>\n",
       "      <th>2</th>\n",
       "      <td>10.3917/rne.044.0267</td>\n",
       "      <td>american-chemical-society-with-titles</td>\n",
       "      <td>(1) Lecouvey, G.; Gonneaud, J.; Eustache, F.; ...</td>\n",
       "    </tr>\n",
       "    <tr>\n",
       "      <th>3</th>\n",
       "      <td>10.3917/rne.044.0267</td>\n",
       "      <td>american-institute-of-physics</td>\n",
       "      <td>1 G. Lecouvey, J. Gonneaud, F. Eustache, and B...</td>\n",
       "    </tr>\n",
       "    <tr>\n",
       "      <th>4</th>\n",
       "      <td>10.3917/rne.044.0267</td>\n",
       "      <td>american-sociological-association</td>\n",
       "      <td>Lecouvey, Grégory, Julie Gonneaud, Francis Eus...</td>\n",
       "    </tr>\n",
       "  </tbody>\n",
       "</table>\n",
       "</div>"
      ],
      "text/plain": [
       "                    doi                                  style  \\\n",
       "0  10.3917/rne.044.0267                    acm-sig-proceedings   \n",
       "1  10.3917/rne.044.0267              american-chemical-society   \n",
       "2  10.3917/rne.044.0267  american-chemical-society-with-titles   \n",
       "3  10.3917/rne.044.0267          american-institute-of-physics   \n",
       "4  10.3917/rne.044.0267      american-sociological-association   \n",
       "\n",
       "                                              string  \n",
       "0  [1]Lecouvey, G. et al. 2012. Les apports de la...  \n",
       "1  Lecouvey, G.; Gonneaud, J.; Eustache, F.; Desg...  \n",
       "2  (1) Lecouvey, G.; Gonneaud, J.; Eustache, F.; ...  \n",
       "3  1 G. Lecouvey, J. Gonneaud, F. Eustache, and B...  \n",
       "4  Lecouvey, Grégory, Julie Gonneaud, Francis Eus...  "
      ]
     },
     "execution_count": 6,
     "metadata": {},
     "output_type": "execute_result"
    }
   ],
   "source": [
    "dataset = add_noise(dataset, random_state=0)\n",
    "dataset.head()"
   ]
  },
  {
   "cell_type": "markdown",
   "metadata": {},
   "source": [
    "Finally, we will add the \"unknown\" category to the dataset. The reference strings in this category will be generated by randomly swapping tokens in the \"proper\" reference strings."
   ]
  },
  {
   "cell_type": "code",
   "execution_count": 7,
   "metadata": {},
   "outputs": [
    {
     "name": "stdout",
     "output_type": "stream",
     "text": [
      "Dataset size: 87808\n"
     ]
    }
   ],
   "source": [
    "dataset_unknown = generate_unknown(dataset, 5000, random_state=0)\n",
    "dataset = pd.concat([dataset, dataset_unknown])\n",
    "print('Dataset size: {}'.format(dataset.shape[0]))"
   ]
  },
  {
   "cell_type": "markdown",
   "metadata": {},
   "source": [
    "## Feature representation\n",
    "\n",
    "We will use a TF-IDF bag-of-ngrams representation of the reference strings. In this case, however, the tokens will be different from the typical use case. We will leave punctuation characters as tokens, and map the actual words into word classes such as \"capitalized word\", or \"uppercase letter\". This is done to preserve the style-related information. We will also mark the beginning and the end of the string with special tokens.\n",
    "\n",
    "This function maps the tokens in the string into our token classes:"
   ]
  },
  {
   "cell_type": "code",
   "execution_count": 8,
   "metadata": {},
   "outputs": [
    {
     "data": {
      "text/plain": [
       "'start capword comma uclett dot uclett dot capword lcword capword year comma year comma num dash num dot end'"
      ]
     },
     "execution_count": 8,
     "metadata": {},
     "output_type": "execute_result"
    }
   ],
   "source": [
    "tokens_to_classes('Eberlein, T. J. Yearbook of Surgery 2006, 2006, 322–324.')"
   ]
  },
  {
   "cell_type": "markdown",
   "metadata": {},
   "source": [
    "## The basic model\n",
    "\n",
    "Let's now build some models and evaluate them. We will use logistic regression algorithm to predict the style from TF-IDFs of the tokens. We will use all 1-grams and 2-grams we have in the train set. We will perform a 5-fold cross-validation on the training set, and look at the resulting accuracy.\n",
    "\n",
    "Function *get_tfidf_features* passed to the evaluation function calculates a matrix of TD-IDF features for the list of strings. It is typically called twice, first on the training set and then on the test set (in this case, it will be called twice for every cross-validation split). When called on the training set, it calculates the vocabulary and IDFs using the entire training set (this is called fitting). When called on the test set, nothing is learned from the entire test set, but we reuse the vocabulary and IDFs calculated previously on the training set."
   ]
  },
  {
   "cell_type": "code",
   "execution_count": 9,
   "metadata": {},
   "outputs": [
    {
     "name": "stdout",
     "output_type": "stream",
     "text": [
      "Fold accuracies: [0.9126013938078373, 0.9202285714285714, 0.9193229901269393, 0.9177215189873418, 0.9198357945150807]\n",
      "Mean accuracy: 0.9179420537731541\n"
     ]
    }
   ],
   "source": [
    "logging.disable(logging.ERROR)\n",
    "           \n",
    "accuracies, _ = evaluate_cv(dataset, LogisticRegression(solver='liblinear', multi_class='ovr',\n",
    "                                                        random_state=0),\n",
    "                            feature_fun=get_tfidf_features, ngrams=(1, 2), nfeatures=None,\n",
    "                            feature_selector=None, random_state=0)\n",
    "print('Fold accuracies: {}'.format(accuracies))\n",
    "print('Mean accuracy: {}'.format(mean(accuracies)))"
   ]
  },
  {
   "cell_type": "markdown",
   "metadata": {},
   "source": [
    "The accuracy is already decent.\n",
    "\n",
    "## Choosing the ngram range\n",
    "\n",
    "Let's now see how the n-gram range affects the accuracy:"
   ]
  },
  {
   "cell_type": "code",
   "execution_count": 10,
   "metadata": {},
   "outputs": [
    {
     "name": "stdout",
     "output_type": "stream",
     "text": [
      "Accuracy for ngrams range (1, 1): 0.6429995565357051\n",
      "Accuracy for ngrams range (1, 2): 0.9179420537731541\n",
      "Accuracy for ngrams range (1, 3): 0.9404468077588604\n",
      "Accuracy for ngrams range (1, 4): 0.9440585520001304\n",
      "Accuracy for ngrams range (2, 2): 0.9212885625578777\n",
      "Accuracy for ngrams range (2, 3): 0.9416774106975155\n",
      "Accuracy for ngrams range (2, 4): 0.9447430446777196\n",
      "Accuracy for ngrams range (3, 3): 0.9418369636880682\n",
      "Accuracy for ngrams range (3, 4): 0.9435140323464734\n",
      "Accuracy for ngrams range (4, 4): 0.9408594942671523\n"
     ]
    }
   ],
   "source": [
    "results = np.zeros((4, 4))\n",
    "for min_r in range(1, 5):\n",
    "    for max_r in range(min_r, 5):\n",
    "        accuracies, _ = evaluate_cv(dataset, LogisticRegression(solver='liblinear',\n",
    "                                                                multi_class='ovr',\n",
    "                                                                random_state=0),\n",
    "                                    feature_fun=get_tfidf_features, nfeatures=None,\n",
    "                                    ngrams=(min_r, max_r), feature_selector=None,\n",
    "                                    random_state=0)\n",
    "        results[min_r-1, max_r-1] = mean(accuracies)\n",
    "        print('Accuracy for ngrams range ({}, {}): {}'.format(min_r, max_r, mean(accuracies)))"
   ]
  },
  {
   "cell_type": "code",
   "execution_count": 11,
   "metadata": {},
   "outputs": [
    {
     "data": {
      "image/png": "[encoded data removed]",
      "text/plain": [
       "<Figure size 288x288 with 2 Axes>"
      ]
     },
     "metadata": {
      "needs_background": "light"
     },
     "output_type": "display_data"
    }
   ],
   "source": [
    "fig, ax = plt.subplots(figsize=(4,4))\n",
    "sns.heatmap(results, annot=True, fmt='.4g', xticklabels=[1,2,3,4], yticklabels=[1,2,3,4],\n",
    "            cmap='Blues')\n",
    "plt.ylabel('Ngram min')\n",
    "plt.xlabel('Ngram max')\n",
    "plt.show()"
   ]
  },
  {
   "cell_type": "markdown",
   "metadata": {},
   "source": [
    "Based on this, we will choose the range (2, 4).\n",
    " \n",
    "Let's calculate the features for our training set and look at the most frequent n-grams:"
   ]
  },
  {
   "cell_type": "code",
   "execution_count": 12,
   "metadata": {},
   "outputs": [
    {
     "name": "stdout",
     "output_type": "stream",
     "text": [
      "Number of features: 26306\n",
      "capword capword: 263525\n",
      "uclett dot: 193640\n",
      "lcword lcword: 180980\n",
      "capword comma: 161957\n",
      "capword lcword: 156110\n",
      "lcword capword: 143922\n",
      "dot capword: 137731\n",
      "lcword lcword lcword: 112891\n",
      "capword lcword capword: 103931\n",
      "comma uclett: 102487\n",
      "comma uclett dot: 99111\n",
      "comma capword: 88795\n",
      "capword comma uclett: 85519\n",
      "capword comma uclett dot: 84608\n",
      "capword capword capword: 83083\n",
      "lcword lcword lcword lcword: 82174\n",
      "capword dot: 76268\n",
      "lcword capword capword: 71577\n",
      "uclett dot capword: 64104\n",
      "capword capword lcword: 62644\n",
      "num dash: 57399\n",
      "dash num: 55514\n",
      "capword lcword capword capword: 54710\n",
      "dot uclett: 54285\n",
      "num dash num: 52416\n",
      "dot uclett dot: 50937\n",
      "uclett dot uclett: 50291\n",
      "capword capword lcword capword: 49723\n",
      "dot capword comma: 49596\n",
      "uclett dot uclett dot: 49100\n",
      "uclett dot capword comma: 45323\n",
      "lcword dot: 44929\n",
      "dot num: 44654\n",
      "comma num: 44116\n",
      "dot end: 41871\n",
      "num dot: 40949\n",
      "start capword: 40649\n",
      "capword capword dot: 40164\n",
      "year rpar: 39533\n",
      "num comma: 38769\n",
      "num lpar: 38641\n",
      "lpar year: 37880\n",
      "lpar year rpar: 37626\n",
      "comma lcword: 37214\n",
      "capword comma capword: 34868\n",
      "capword lcword lcword: 34744\n",
      "dot capword capword: 34430\n",
      "comma uclett dot uclett: 34348\n",
      "quot capword: 33873\n",
      "capword uclett: 33028\n"
     ]
    }
   ],
   "source": [
    "count_vectorizer, _, tfidf_features = get_tfidf_features(dataset['string'],\n",
    "                                                         ngrams=(2, 4))\n",
    "tfidf_feature_names = count_vectorizer.get_feature_names()\n",
    "print('Number of features: {}'.format(len(tfidf_feature_names)))\n",
    "\n",
    "occurrences = count_vectorizer.fit_transform(dataset['string']).toarray().sum(axis=0)\n",
    "indices = np.argsort(occurrences)[::-1]\n",
    "tfidf_feature_names = np.array(tfidf_feature_names)[indices]\n",
    "occurrences = np.array(occurrences)[indices]\n",
    "print('\\n'.join(['{}: {}'.format(p[0], p[1])\n",
    "                 for p in list(zip(tfidf_feature_names, occurrences))[:50]]))"
   ]
  },
  {
   "cell_type": "markdown",
   "metadata": {},
   "source": [
    "We can see all types of ngrams. In most cases we can guess where they came from, eg. \"lcword lcword lcword lcword\" is typically a fragment of the title, and \"uclett dot capword comma\" looks like a fragment from the authors' list.\n",
    "\n",
    "We can also check which features are the most correlated with the styles. We will use chi-squared statistic for this:"
   ]
  },
  {
   "cell_type": "code",
   "execution_count": 13,
   "metadata": {},
   "outputs": [
    {
     "name": "stdout",
     "output_type": "stream",
     "text": [
      "\n",
      "Style: acm-sig-proceedings\n",
      "Most correlated bigrams: dot lcword|dot year|rbracket year|rpar comma|rbracket capword\n",
      "Most correlated trigrams: uclett dot year|num rbracket capword|rpar comma num|rbracket capword comma|year rpar comma\n",
      "Most correlated fourgrams: num rbracket capword comma|dot year dot capword|rbracket capword comma uclett|lpar year rpar comma|year rpar comma num\n",
      "\n",
      "Style: american-chemical-society\n",
      "Most correlated bigrams: year comma|capword year|start lpar|semicolon capword|dot semicolon\n",
      "Most correlated trigrams: start lpar num|comma num comma|semicolon capword comma|dot semicolon capword|uclett dot semicolon\n",
      "Most correlated fourgrams: comma uclett dot semicolon|year comma num comma|dot semicolon capword comma|semicolon capword comma uclett|uclett dot semicolon capword\n",
      "\n",
      "Style: american-chemical-society-with-titles\n",
      "Most correlated bigrams: year comma|capword year|start lpar|semicolon capword|dot semicolon\n",
      "Most correlated trigrams: comma num comma|start lpar num|semicolon capword comma|dot semicolon capword|uclett dot semicolon\n",
      "Most correlated fourgrams: year comma num comma|comma uclett dot semicolon|dot semicolon capword comma|semicolon capword comma uclett|uclett dot semicolon capword\n",
      "\n",
      "Style: american-institute-of-physics\n",
      "Most correlated bigrams: start uclett|lcword uclett|rpar end|start num|num uclett\n",
      "Most correlated trigrams: rpar dot end|year rpar end|num uclett dot|start num uclett|capword num comma\n",
      "Most correlated fourgrams: num comma num lpar|comma num lpar year|start num uclett dot|capword capword num comma|capword num comma num\n",
      "\n",
      "Style: american-sociological-association\n",
      "Most correlated bigrams: year dot|rpar colon|dot year|quot capword|dot quot\n",
      "Most correlated trigrams: quot capword capword|num rpar colon|dot year dot|dot quot capword|year dot quot\n",
      "Most correlated fourgrams: dot quot capword capword|start capword dot year|capword num lpar num|year dot quot capword|dot year dot quot\n",
      "\n",
      "Style: apa\n",
      "Most correlated bigrams: and capword|dot comma|rpar dot|dot lpar|comma and\n",
      "Most correlated trigrams: dot lpar year|comma and capword|dot comma and|rpar dot capword|uclett dot lpar\n",
      "Most correlated fourgrams: uclett dot comma and|comma uclett dot lpar|num rpar comma num|uclett dot lpar year|year rpar dot capword\n",
      "\n",
      "Style: bmc-bioinformatics\n",
      "Most correlated bigrams: year colon|uclett comma|num colon|ucword colon|uclett colon\n",
      "Most correlated trigrams: ucword colon capword|capword ucword colon|uclett colon capword|capword uclett colon|comma num colon\n",
      "Most correlated fourgrams: comma capword uclett colon|capword ucword colon capword|capword uclett colon capword|comma num colon num|year comma num colon\n",
      "\n",
      "Style: chicago-author-date\n",
      "Most correlated bigrams: start quot|rpar lpar|quot year|quot capword|dot quot\n",
      "Most correlated trigrams: quot year dot|num rpar lpar|rpar lpar capword|dot quot capword|year dot quot\n",
      "Most correlated fourgrams: dot quot year dot|num rpar lpar capword|year dot quot capword|capword num lpar num|dot year dot quot\n",
      "\n",
      "Style: elsevier-without-titles\n",
      "Most correlated bigrams: num rbracket|lbracket num|start lbracket|rbracket uclett|rpar num\n",
      "Most correlated trigrams: capword num lpar|dot capword comma|year rpar num|rpar num dot|rpar num end\n",
      "Most correlated fourgrams: lpar year rpar num|year rpar num dot|year rpar num end|rpar num dot end|capword num lpar year\n",
      "\n",
      "Style: elsevier-with-titles\n",
      "Most correlated bigrams: num rbracket|lbracket num|start lbracket|rbracket uclett|rpar num\n",
      "Most correlated trigrams: dot capword comma|lcword comma capword|year rpar num|dot num lpar|rpar num dash\n",
      "Most correlated fourgrams: lcword lcword comma capword|dot num lpar year|year rpar num dash|capword dot num lpar|rpar num dash num\n",
      "\n",
      "Style: harvard3\n",
      "Most correlated bigrams: lcword dot|dot comma|rpar comma|comma year|dot and\n",
      "Most correlated trigrams: dot and capword|uclett dot and|comma year dot|rpar comma lcword|dot comma year\n",
      "Most correlated fourgrams: uclett dot comma year|num rpar comma lcword|rpar comma lcword dot|comma year dot capword|dot comma year dot\n",
      "\n",
      "Style: ieee\n",
      "Most correlated bigrams: rbracket quot|num comma|year end|comma lcword|comma quot\n",
      "Most correlated trigrams: num comma year|lcword dot num|comma lcword dot|capword comma quot|comma quot capword\n",
      "Most correlated fourgrams: lcword dot num comma|dot capword comma quot|comma quot capword capword|comma lcword dot num|capword comma quot capword\n",
      "\n",
      "Style: iso690-author-date-en\n",
      "Most correlated bigrams: dot num|comma ucword|comma lclett|start ucword|ucword comma\n",
      "Most correlated trigrams: ucword comma capword|num comma lclett|comma ucword comma|year comma capword|comma year comma\n",
      "Most correlated fourgrams: dot num comma lclett|num comma lclett dot|lclett dot num dash|comma year comma capword|ucword comma capword comma\n",
      "\n",
      "Style: modern-language-association\n",
      "Most correlated bigrams: start quot|colon lclett|rpar colon|quot capword|dot quot\n",
      "Most correlated trigrams: lcword dot quot|capword dot quot|num dot num|capword num dot|year rpar colon\n",
      "Most correlated fourgrams: capword capword num dot|capword num dot num|num dot num lpar|year rpar colon num|lpar year rpar colon\n",
      "\n",
      "Style: springer-basic-author-date\n",
      "Most correlated bigrams: uclett comma|ucword lpar|num colon|rpar capword|uclett lpar\n",
      "Most correlated trigrams: rpar capword lcword|capword uclett lpar|uclett lpar year|capword num colon|year rpar capword\n",
      "Most correlated fourgrams: capword uclett lpar year|uclett lpar year rpar|year rpar capword lcword|capword num colon num|lpar year rpar capword\n",
      "\n",
      "Style: springer-lecture-notes-in-computer-science\n",
      "Most correlated bigrams: start dot|colon capword|rpar end|dot comma|dot colon\n",
      "Most correlated trigrams: comma capword comma|dot comma capword|dash num lpar|dot colon capword|uclett dot colon\n",
      "Most correlated fourgrams: dot comma capword comma|comma uclett dot colon|num dash num lpar|dash num lpar year|uclett dot colon capword\n",
      "\n",
      "Style: vancouver\n",
      "Most correlated bigrams: ucword semicolon|year semicolon|capword semicolon|semicolon num|semicolon year\n",
      "Most correlated trigrams: semicolon year capword|year semicolon num|capword semicolon year|semicolon year semicolon|semicolon num lpar\n",
      "Most correlated fourgrams: year capword num semicolon|semicolon year capword num|year semicolon num lpar|semicolon year semicolon num|semicolon num lpar num\n"
     ]
    }
   ],
   "source": [
    "for style in STYLES:\n",
    "    print()\n",
    "    print('Style: {}'.format(style))\n",
    "    features_chi2 = chi2(tfidf_features, dataset['style'] == style)[0]\n",
    "    indices = np.argsort(features_chi2)\n",
    "    feature_names = np.array(count_vectorizer.get_feature_names())[indices]\n",
    "    bigrams = [v for v in feature_names if len(v.split(' '))  == 2]\n",
    "    trigrams = [v for v in feature_names if len(v.split(' '))  == 3]\n",
    "    fourgrams = [v for v in feature_names if len(v.split(' '))  == 4]\n",
    "    print('Most correlated bigrams: {}'.format('|'.join(bigrams[-5:])))\n",
    "    print('Most correlated trigrams: {}'.format('|'.join(trigrams[-5:])))\n",
    "    print('Most correlated fourgrams: {}'.format('|'.join(fourgrams[-5:])))"
   ]
  },
  {
   "cell_type": "markdown",
   "metadata": {},
   "source": [
    "## Feature selection\n",
    "\n",
    "So far we used all n-grams present in the training set. Some of them are very rare and don't provide a lot of information for the training algorithm. Let's try using only n most frequent ngrams for different values of n, and see how it affects the accuracy."
   ]
  },
  {
   "cell_type": "code",
   "execution_count": 14,
   "metadata": {
    "scrolled": false
   },
   "outputs": [
    {
     "name": "stdout",
     "output_type": "stream",
     "text": [
      "Accuracy for 200 features: 0.9039696274734004\n",
      "Accuracy for 400 features: 0.9247202037666563\n",
      "Accuracy for 600 features: 0.9316303117376895\n",
      "Accuracy for 800 features: 0.9357201092361964\n",
      "Accuracy for 1000 features: 0.9379301368400974\n",
      "Accuracy for 1200 features: 0.9399257383659184\n",
      "Accuracy for 1400 features: 0.9408266847169037\n",
      "Accuracy for 1600 features: 0.9416221143309265\n",
      "Accuracy for 1800 features: 0.9423623687948385\n",
      "Accuracy for 2000 features: 0.9427485690116711\n",
      "Accuracy for 2200 features: 0.9429655150446141\n",
      "Accuracy for 2400 features: 0.943102446271602\n",
      "Accuracy for 2600 features: 0.943170677393616\n",
      "Accuracy for 2800 features: 0.9435248370537357\n",
      "Accuracy for 3000 features: 0.9438105668170498\n",
      "Accuracy for 3200 features: 0.9438106283123616\n",
      "Accuracy for 3400 features: 0.944094912142422\n",
      "Accuracy for 3600 features: 0.944152388569183\n",
      "Accuracy for 3800 features: 0.9440835259122548\n",
      "Accuracy for 4000 features: 0.9442319722276497\n",
      "Accuracy for 4200 features: 0.9443348844882843\n",
      "Accuracy for 4400 features: 0.9444485603436481\n",
      "Accuracy for 4600 features: 0.9445170620117876\n",
      "Accuracy for 4800 features: 0.9445740589102221\n",
      "Accuracy for 5000 features: 0.9446880659535412\n"
     ]
    }
   ],
   "source": [
    "nfeatures_results = []\n",
    "nfeatures_values = range(200, 5100, 200)\n",
    "for n in nfeatures_values:\n",
    "    accuracies, _ = evaluate_cv(dataset, LogisticRegression(solver='liblinear',\n",
    "                                                            multi_class='ovr',\n",
    "                                                            random_state=0),\n",
    "                                feature_fun=get_tfidf_features, nfeatures=n, ngrams=(2, 4),\n",
    "                                feature_selector=None, random_state=0)\n",
    "    nfeatures_results.append(mean(accuracies))\n",
    "    print('Accuracy for {} features: {}'.format(n, mean(accuracies)))"
   ]
  },
  {
   "cell_type": "code",
   "execution_count": 15,
   "metadata": {},
   "outputs": [
    {
     "data": {
      "image/png": "[encoded data removed]",
      "text/plain": [
       "<Figure size 432x288 with 1 Axes>"
      ]
     },
     "metadata": {
      "needs_background": "light"
     },
     "output_type": "display_data"
    }
   ],
   "source": [
    "plt.plot(nfeatures_values, nfeatures_results, color='#4f5858')\n",
    "plt.xticks(list(range(200, 5100, 600)))\n",
    "plt.xlabel('Number of features')\n",
    "plt.ylabel('Accuracy')\n",
    "plt.show()"
   ]
  },
  {
   "cell_type": "markdown",
   "metadata": {},
   "source": [
    "It seems that the more features we have the higher accuracy.\n",
    "\n",
    "Choosing the most frequent features might not be optimal. Some frequent features will be useless because they don't provide any information about the target style. We can perform feature selection to choose a number of most useful features.\n",
    "\n",
    "By passing *feature_selector* to the evaluation function we make sure the best features are selected in the training phase. In this case, the selection is done using feature importance scores from Random Forest.\n",
    "\n",
    "Similarly as before, we will test this with varying number of chosen features:"
   ]
  },
  {
   "cell_type": "code",
   "execution_count": 16,
   "metadata": {},
   "outputs": [
    {
     "name": "stdout",
     "output_type": "stream",
     "text": [
      "Accuracy for 200 features: 0.8735980168069515\n",
      "Accuracy for 400 features: 0.9242263212703586\n",
      "Accuracy for 600 features: 0.9330316280900628\n",
      "Accuracy for 800 features: 0.934897011154997\n",
      "Accuracy for 1000 features: 0.9350237268786102\n",
      "Accuracy for 1200 features: 0.9353665560923784\n",
      "Accuracy for 1400 features: 0.9357557083898407\n",
      "Accuracy for 1600 features: 0.9360051408540927\n",
      "Accuracy for 1800 features: 0.9363129924117982\n",
      "Accuracy for 2000 features: 0.9366535980195483\n",
      "Accuracy for 2200 features: 0.9367814941402482\n",
      "Accuracy for 2400 features: 0.9370428598831635\n",
      "Accuracy for 2600 features: 0.9375889545319572\n",
      "Accuracy for 2800 features: 0.9376458206287409\n",
      "Accuracy for 3000 features: 0.9379186776905049\n",
      "Accuracy for 3200 features: 0.9380567399882664\n",
      "Accuracy for 3400 features: 0.9382041662216303\n",
      "Accuracy for 3600 features: 0.9382147782649861\n",
      "Accuracy for 3800 features: 0.9381471018052694\n",
      "Accuracy for 4000 features: 0.9382502093147583\n",
      "Accuracy for 4200 features: 0.9383524583301591\n",
      "Accuracy for 4400 features: 0.9384664043164183\n",
      "Accuracy for 4600 features: 0.9384206746375577\n",
      "Accuracy for 4800 features: 0.9382607817409582\n",
      "Accuracy for 5000 features: 0.9383523909744119\n"
     ]
    }
   ],
   "source": [
    "nfeatures_results_rf = []\n",
    "nfeatures_values = range(200, 5100, 200)\n",
    "for n in nfeatures_values:\n",
    "    accuracies, _ = evaluate_cv(dataset, LogisticRegression(solver='liblinear',\n",
    "                                                            multi_class='ovr',\n",
    "                                                            random_state=0),\n",
    "                                feature_fun=get_tfidf_features,\n",
    "                                feature_selector=select_features_rf,\n",
    "                                nfeatures=n, ngrams=(2, 4), random_state=0)\n",
    "    nfeatures_results_rf.append(mean(accuracies))\n",
    "    print('Accuracy for {} features: {}'.format(n, mean(accuracies)))"
   ]
  },
  {
   "cell_type": "code",
   "execution_count": 17,
   "metadata": {},
   "outputs": [
    {
     "data": {
      "image/png": "[encoded data removed]",
      "text/plain": [
       "<Figure size 432x288 with 1 Axes>"
      ]
     },
     "metadata": {
      "needs_background": "light"
     },
     "output_type": "display_data"
    }
   ],
   "source": [
    "plt.plot(nfeatures_values, nfeatures_results, color='#4f5858')\n",
    "plt.plot(nfeatures_values, nfeatures_results_rf, color='#3eb1c8')\n",
    "plt.legend(['without selection', 'with selection (RF)'], bbox_to_anchor=(0.9, 1.2), ncol=3)\n",
    "plt.xticks(list(range(200, 5100, 600)))\n",
    "plt.xlabel('Number of features')\n",
    "plt.ylabel('Accuracy')\n",
    "plt.show()"
   ]
  },
  {
   "cell_type": "markdown",
   "metadata": {},
   "source": [
    "We can see that in a small range RF selection results in slightly better performance, but as we increase the number of features, no selection outperforms RF-based selection.\n",
    "\n",
    "We will also try a simpler selection method, based on chi-squared correlations:"
   ]
  },
  {
   "cell_type": "code",
   "execution_count": 18,
   "metadata": {},
   "outputs": [
    {
     "name": "stdout",
     "output_type": "stream",
     "text": [
      "Accuracy for 200 features: 0.835077284319014\n",
      "Accuracy for 400 features: 0.8836485620181334\n",
      "Accuracy for 600 features: 0.9027987668013104\n",
      "Accuracy for 800 features: 0.9307199732572966\n",
      "Accuracy for 1000 features: 0.9361420444884693\n",
      "Accuracy for 1200 features: 0.9378643092801042\n",
      "Accuracy for 1400 features: 0.9394137955831798\n",
      "Accuracy for 1600 features: 0.9398904369576815\n",
      "Accuracy for 1800 features: 0.9410076571799371\n",
      "Accuracy for 2000 features: 0.9413842087264808\n",
      "Accuracy for 2200 features: 0.9419310984404216\n",
      "Accuracy for 2400 features: 0.942431638408049\n",
      "Accuracy for 2600 features: 0.9427160326252992\n",
      "Accuracy for 2800 features: 0.9430241968395998\n",
      "Accuracy for 3000 features: 0.943274612166231\n",
      "Accuracy for 3200 features: 0.943526407459392\n",
      "Accuracy for 3400 features: 0.9438893176615941\n",
      "Accuracy for 3600 features: 0.944208027533121\n",
      "Accuracy for 3800 features: 0.9442528281900073\n",
      "Accuracy for 4000 features: 0.9443788913826607\n",
      "Accuracy for 4200 features: 0.9445043360918672\n",
      "Accuracy for 4400 features: 0.9447551193708915\n",
      "Accuracy for 4600 features: 0.9449841043896939\n",
      "Accuracy for 4800 features: 0.9449608450938647\n",
      "Accuracy for 5000 features: 0.9449832005783098\n"
     ]
    }
   ],
   "source": [
    "nfeatures_results_chi2 = []\n",
    "nfeatures_values = range(200, 5100, 200)\n",
    "for n in nfeatures_values:\n",
    "    accuracies, _ = evaluate_cv(dataset, LogisticRegression(solver='liblinear',\n",
    "                                                            multi_class='ovr',\n",
    "                                                            random_state=0),\n",
    "                                feature_fun=get_tfidf_features,\n",
    "                                feature_selector=select_features_chi2,\n",
    "                                nfeatures=n, ngrams=(2, 4), random_state=0)\n",
    "    nfeatures_results_chi2.append(mean(accuracies))\n",
    "    print('Accuracy for {} features: {}'.format(n, mean(accuracies)))"
   ]
  },
  {
   "cell_type": "code",
   "execution_count": 19,
   "metadata": {},
   "outputs": [
    {
     "data": {
      "image/png": "[encoded data removed]",
      "text/plain": [
       "<Figure size 432x288 with 1 Axes>"
      ]
     },
     "metadata": {
      "needs_background": "light"
     },
     "output_type": "display_data"
    }
   ],
   "source": [
    "plt.plot(nfeatures_values, nfeatures_results, color='#4f5858')\n",
    "plt.plot(nfeatures_values, nfeatures_results_rf, color='#3eb1c8')\n",
    "plt.plot(nfeatures_values, nfeatures_results_chi2, color='#ef3340')\n",
    "plt.legend(['without selection', 'with selection (RF)', 'with selection (Chi^2)'],\n",
    "           bbox_to_anchor=(1.1, 1.2), ncol=3)\n",
    "plt.xticks(list(range(200, 5100, 600)))\n",
    "plt.xlabel('Number of features')\n",
    "plt.ylabel('Accuracy')\n",
    "plt.show()"
   ]
  },
  {
   "cell_type": "markdown",
   "metadata": {},
   "source": [
    "The best accuracy resulted from chi-squared selection with 4600 features. We will use that from now on.\n",
    "\n",
    "Let's also add one more feature (string length) to our feature representation. `get_features` function calculates TF-IDF features according to other parameters and adds string length to the feature vectors."
   ]
  },
  {
   "cell_type": "code",
   "execution_count": 20,
   "metadata": {},
   "outputs": [
    {
     "name": "stdout",
     "output_type": "stream",
     "text": [
      "Fold accuracies: [0.9416771392665372, 0.9487428571428571, 0.9445980253878702, 0.9450906602805337, 0.9456639489138491]\n",
      "Mean accuracy: 0.9451545261983294\n"
     ]
    }
   ],
   "source": [
    "accuracies, _ = evaluate_cv(dataset, LogisticRegression(solver='liblinear',\n",
    "                                                        multi_class='ovr',\n",
    "                                                        random_state=0),\n",
    "                            feature_fun=get_features,\n",
    "                            feature_selector=select_features_chi2,\n",
    "                            nfeatures=4600, ngrams=(2, 4), random_state=0)\n",
    "print('Fold accuracies: {}'.format(accuracies))\n",
    "print('Mean accuracy: {}'.format(mean(accuracies)))"
   ]
  },
  {
   "cell_type": "markdown",
   "metadata": {},
   "source": [
    "## Model selection\n",
    "\n",
    "Let's also test a few learning algorithms using previously chosen parameters:"
   ]
  },
  {
   "cell_type": "code",
   "execution_count": 21,
   "metadata": {},
   "outputs": [
    {
     "name": "stdout",
     "output_type": "stream",
     "text": [
      "Accuracy for Naive Bayes algorithm 0.9204147179932866\n",
      "Accuracy for Logistic Regression algorithm 0.9451545261983294\n"
     ]
    },
    {
     "name": "stderr",
     "output_type": "stream",
     "text": [
      "/home/dtkaczyk/.local/lib/python3.6/site-packages/sklearn/svm/base.py:929: ConvergenceWarning: Liblinear failed to converge, increase the number of iterations.\n",
      "  \"the number of iterations.\", ConvergenceWarning)\n",
      "/home/dtkaczyk/.local/lib/python3.6/site-packages/sklearn/svm/base.py:929: ConvergenceWarning: Liblinear failed to converge, increase the number of iterations.\n",
      "  \"the number of iterations.\", ConvergenceWarning)\n",
      "/home/dtkaczyk/.local/lib/python3.6/site-packages/sklearn/svm/base.py:929: ConvergenceWarning: Liblinear failed to converge, increase the number of iterations.\n",
      "  \"the number of iterations.\", ConvergenceWarning)\n",
      "/home/dtkaczyk/.local/lib/python3.6/site-packages/sklearn/svm/base.py:929: ConvergenceWarning: Liblinear failed to converge, increase the number of iterations.\n",
      "  \"the number of iterations.\", ConvergenceWarning)\n",
      "/home/dtkaczyk/.local/lib/python3.6/site-packages/sklearn/svm/base.py:929: ConvergenceWarning: Liblinear failed to converge, increase the number of iterations.\n",
      "  \"the number of iterations.\", ConvergenceWarning)\n"
     ]
    },
    {
     "name": "stdout",
     "output_type": "stream",
     "text": [
      "Accuracy for Linear SVC algorithm 0.8813461057211595\n",
      "Accuracy for Random Forest algorithm 0.8282766247394051\n"
     ]
    }
   ],
   "source": [
    "algo_results = []\n",
    "for name, algo in [('Naive Bayes', MultinomialNB()),\n",
    "                   ('Logistic Regression', LogisticRegression(solver='liblinear',\n",
    "                                                              multi_class='ovr',\n",
    "                                                              random_state=0)),\n",
    "                   ('Linear SVC', LinearSVC(random_state=0)),\n",
    "                   ('Random Forest', RandomForestClassifier(n_estimators=200, max_depth=3,\n",
    "                                                            random_state=0))]:\n",
    "    accuracies, _ = evaluate_cv(dataset, algo, feature_fun=get_features,\n",
    "                                feature_selector=select_features_chi2,\n",
    "                                nfeatures=4600, ngrams=(2, 4), random_state=0)\n",
    "    algo_results.extend([(name, fold, accuracy) for fold, accuracy in enumerate(accuracies)])\n",
    "    print('Accuracy for {} algorithm {}'.format(name, mean(accuracies)))"
   ]
  },
  {
   "cell_type": "code",
   "execution_count": 22,
   "metadata": {},
   "outputs": [
    {
     "data": {
      "image/png": "[encoded data removed]",
      "text/plain": [
       "<Figure size 432x288 with 1 Axes>"
      ]
     },
     "metadata": {
      "needs_background": "light"
     },
     "output_type": "display_data"
    }
   ],
   "source": [
    "cv_df = pd.DataFrame(algo_results, columns=['model', 'fold', 'accuracy'])\n",
    "ax = sns.boxplot(x='model', y='accuracy', data=cv_df, color=\"#d8d2c4\")\n",
    "ax.set_xlabel('')\n",
    "plt.setp(ax.get_xticklabels(), rotation=45)\n",
    "plt.show()"
   ]
  },
  {
   "cell_type": "markdown",
   "metadata": {},
   "source": [
    "It seems that logistic regression results in the best accuracy averaged over the folds. Also the variance of the results in this case is small.\n",
    "\n",
    "## Final model"
   ]
  },
  {
   "cell_type": "code",
   "execution_count": 23,
   "metadata": {},
   "outputs": [
    {
     "name": "stdout",
     "output_type": "stream",
     "text": [
      "Fold accuracies: [0.9416771392665372, 0.9487428571428571, 0.9445980253878702, 0.9450906602805337, 0.9456639489138491]\n",
      "Mean accuracy: 0.9451545261983294\n"
     ]
    }
   ],
   "source": [
    "accuracies, dataset_results_cv = evaluate_cv(dataset,\n",
    "                                             LogisticRegression(solver='liblinear',\n",
    "                                                                multi_class='ovr',\n",
    "                                                                random_state=0),\n",
    "                                             feature_fun=get_features,\n",
    "                                             feature_selector=select_features_chi2,\n",
    "                                             nfeatures=4600, ngrams=(2, 4), random_state=0)\n",
    "print('Fold accuracies: {}'.format(accuracies))\n",
    "print('Mean accuracy: {}'.format(mean(accuracies)))"
   ]
  },
  {
   "cell_type": "markdown",
   "metadata": {},
   "source": [
    "Let's see the confusion matrix:"
   ]
  },
  {
   "cell_type": "code",
   "execution_count": 24,
   "metadata": {},
   "outputs": [
    {
     "data": {
      "image/png": "[encoded data removed]",
      "text/plain": [
       "<Figure size 720x720 with 2 Axes>"
      ]
     },
     "metadata": {
      "needs_background": "light"
     },
     "output_type": "display_data"
    }
   ],
   "source": [
    "matrix = confusion_matrix(dataset_results_cv['style_true'], dataset_results_cv['style_pred'])\n",
    "\n",
    "fig, ax = plt.subplots(figsize=(10,10))\n",
    "sns.heatmap(matrix, annot=True, fmt='d', xticklabels=STYLES, yticklabels=STYLES + ['unknown'],\n",
    "            cmap='Blues')\n",
    "plt.ylabel('Actual')\n",
    "plt.xlabel('Predicted')\n",
    "plt.show()"
   ]
  },
  {
   "cell_type": "markdown",
   "metadata": {},
   "source": [
    "Everything looks pretty good apart from the pair (chicago-author-date, american-sociological-association), which seem to be confused a lot by the classifier.\n",
    "\n",
    "This function will show the reference string pairs from the two given  styles for all DOI that were mislabelled."
   ]
  },
  {
   "cell_type": "code",
   "execution_count": 25,
   "metadata": {},
   "outputs": [],
   "source": [
    "def get_diff(actual, predicted):\n",
    "    diff_df = dataset_results_cv.loc[dataset_results_cv['style_true'] == actual]\n",
    "    diff_dois = diff_df.loc[diff_df['style_pred'] == predicted]['doi']\n",
    "    diff_df = dataset_results_cv.loc[dataset_results_cv['doi'].isin(diff_dois)]\n",
    "    diff_df = diff_df.loc[diff_df['style_true'].isin([actual, predicted])].sort_values(by='doi')\n",
    "    strings = [re.sub('^\\(1\\)', '', re.sub('^\\[1\\]', '',\n",
    "                                           re.sub('^1', '', re.sub('\\.$', '', s)))).strip()\n",
    "               for s in diff_df['string']]\n",
    "    strings_0 = [s for i, s in enumerate(strings) if i%2 == 0]\n",
    "    strings_1 = [s for i, s in enumerate(strings) if i%2 == 1]\n",
    "    return list(zip(strings_0, strings_1))"
   ]
  },
  {
   "cell_type": "code",
   "execution_count": 26,
   "metadata": {},
   "outputs": [
    {
     "data": {
      "text/plain": [
       "[('Sridhar, S., R. Ravindra, and A. A. Khan. 2000. “Recovery of Monomethylhydrazine Liquid Propellant by Pervaporation Technique†.” Industrial & Engineering Chemistry Research 39 (7) : 2485–2490',\n",
       "  'Sridhar, S., R. Ravindra, and A. A. Khan. 2000. “Recovery of Monomethylhydrazine Liquid Propellant by Pervaporation Technique†.” Industrial & Engineering Chemistry Research 39(7):2485–90'),\n",
       " ('Dawson, John M. 1985. “The Future of Space Plasma Simulation.” Space Science Reviews 42(1-2):187–208',\n",
       "  'Dawson, John M. 1985. “The Future of Space Plasma Simulation.” Space Science Reviews 42 (1-2) : 187–208'),\n",
       " ('Bartos, G. 1969. “Einige Interessante Probleme Der Minimalisierung Der Elemente Einer Widerstandsdekade.” Tm - Technisches Messen 396-407 (JG)',\n",
       "  'Bartos, G. 1969. “Einige Interessante Probleme Der Minimalisierung Der Elemente Einer Widerstandsdekade.” tm - Technisches Messen 396-407(JG)'),\n",
       " ('Morlova, Dumitru Daniel, and Corina Chiotan. 2015. “Monolithic Concrete Vs Precast Concrete for the Construction of Bridge by Th Cantilever Method.” Romanian Journal of Transport Infrastructure 4(1):20–32',\n",
       "  'Morlova, Dumitru Daniel, and Corina Chiotan. 2015. “Monolithic Concrete Vs Precast Concrete for the Construction of Bridge by Th Cantilever Method.” Romanian Journal of Transport Infrastructure 4 (1) : 20–32'),\n",
       " ('Van der Woude, C., H. van Dekken, and E. Kuipers. 2007. “Bleeding - Not Always a Sign of Relapse of Long-Standing Colitis.” Endoscopy 39 (S 1) : E121–E122',\n",
       "  'Van der Woude, C., H. van Dekken, and E. Kuipers. 2007. “Bleeding - Not Always a Sign of Relapse of Long-Standing Colitis.” Endoscopy 39(S 1):E121–E122'),\n",
       " ('Kuhn, Gustav, and Zoltán Dienes. 2005. “Implicit Learning of Nonlocal Musical Rules: Implicitly Learning More Than Chunks.” Journal of Experimental Psychology: Learning, Memory, and Cognition 31(6):1417–32',\n",
       "  'Kuhn, Gustav, and Zoltán Dienes. 2005. “Implicit Learning of Nonlocal Musical Rules: Implicitly Learning More Than Chunks.” Journal of Experimental Psychology: Learning, Memory, and Cognition 31 (6): 1417–1432'),\n",
       " ('Moore, Carmella C. 2000. “Book Review: Statistics for the Social Sciences.” Field Methods 12 (2) : 162–163',\n",
       "  'Moore, Carmella C. 2000. “Book Review: Statistics for the Social Sciences.” Field Methods 12(2):162–63'),\n",
       " ('GODIN, HENRI. 1960. “REVIEWS.” French Studies XIV (4): 384–385',\n",
       "  'GODIN, HENRI. 1960. “REVIEWS.” French Studies XIV(4):384–85'),\n",
       " ('Workman, R. L. 1989. “Coupling Constants in Kaon Photoproduction.” Physical Review C 39 (6) : 2456–2457',\n",
       "  'Workman, R. L. 1989. “Coupling Constants in Kaon Photoproduction.” Physical Review C 39(6):2456–57'),\n",
       " ('Alvarez-Jimenez, A. 2009. “The WTO Appellate Body’s Exercise of Judicial Economy.” Journal of International Economic Law 12(2):393–415',\n",
       "  'Alvarez-Jimenez, A. 2009. “The WTO Appellate Body’s Exercise of Judicial Economy.” Journal of International Economic Law 12 (2) : 393–415')]"
      ]
     },
     "execution_count": 26,
     "metadata": {},
     "output_type": "execute_result"
    }
   ],
   "source": [
    "sample(get_diff('chicago-author-date', 'american-sociological-association'), 10)"
   ]
  },
  {
   "cell_type": "markdown",
   "metadata": {},
   "source": [
    "In a lot of cases the reference strings are very similar, or identical. No wonder the classifier has problems differentiating between these styles.\n",
    "\n",
    "## Test set evaluation\n",
    "\n",
    "Finally, let's fit the model to the entire train set and evaluate on the main test set:"
   ]
  },
  {
   "cell_type": "code",
   "execution_count": 27,
   "metadata": {},
   "outputs": [
    {
     "name": "stdout",
     "output_type": "stream",
     "text": [
      "The final accuracy: 0.946681883024251\n"
     ]
    }
   ],
   "source": [
    "count_vectorizer, tfidf_transformer, train_features = \\\n",
    "    get_features(dataset['string'], dataset['style'], nfeatures=4600,\n",
    "                 feature_selector=select_features_chi2, ngrams=(2, 4))\n",
    "model = LogisticRegression(solver='liblinear', multi_class='ovr', random_state=0) \\\n",
    "        .fit(train_features, dataset['style'])\n",
    "\n",
    "test_dataset = get_default_test_dataset()\n",
    "test_dataset = clean_dataset(test_dataset)\n",
    "test_dataset = add_noise(test_dataset, random_state=0)\n",
    "dataset_unknown = generate_unknown(test_dataset, 5000, random_state=0)\n",
    "test_dataset = pd.concat([test_dataset, dataset_unknown])\n",
    "\n",
    "accuracy, _ = evaluate_model(test_dataset, count_vectorizer, tfidf_transformer, model)\n",
    "print('The final accuracy: {}'.format(accuracy))"
   ]
  },
  {
   "cell_type": "markdown",
   "metadata": {},
   "source": [
    "The final unbiased accuracy estimate is 94.7%."
   ]
  }
 ],
 "metadata": {
  "kernelspec": {
   "display_name": "Python 3",
   "language": "python",
   "name": "python3"
  },
  "language_info": {
   "codemirror_mode": {
    "name": "ipython",
    "version": 3
   },
   "file_extension": ".py",
   "mimetype": "text/x-python",
   "name": "python",
   "nbconvert_exporter": "python",
   "pygments_lexer": "ipython3",
   "version": "3.6.8"
  }
 },
 "nbformat": 4,
 "nbformat_minor": 2
}
