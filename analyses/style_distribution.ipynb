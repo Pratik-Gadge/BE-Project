{
 "cells": [
  {
   "cell_type": "markdown",
   "metadata": {},
   "source": [
    "# Which citation styles do we have in Crossref data?\n",
    "\n",
    "Dominika Tkaczyk\n",
    "\n",
    "5.09.2019\n",
    "\n",
    "In this notebook I use the style classifier to find out which styles are present in the Crossref collection."
   ]
  },
  {
   "cell_type": "code",
   "execution_count": 1,
   "metadata": {},
   "outputs": [],
   "source": [
    "import warnings\n",
    "warnings.simplefilter('ignore')\n",
    "\n",
    "import json\n",
    "import pandas as pd\n",
    "\n",
    "from styleclass.train import get_default_model\n",
    "from styleclass.classify import classify"
   ]
  },
  {
   "cell_type": "markdown",
   "metadata": {},
   "source": [
    "First I need to read the default model:"
   ]
  },
  {
   "cell_type": "code",
   "execution_count": 2,
   "metadata": {},
   "outputs": [],
   "source": [
    "model = get_default_model()"
   ]
  },
  {
   "cell_type": "markdown",
   "metadata": {},
   "source": [
    "*model* contains the complete trained style classifier. It can be used to infer the citation style of a new reference string.\n",
    "\n",
    "Let's read a sample of reference strings drawn from Crossref API:"
   ]
  },
  {
   "cell_type": "code",
   "execution_count": 3,
   "metadata": {},
   "outputs": [],
   "source": [
    "with open('data/sample.txt', 'r') as file:\n",
    "    data = file.readlines()\n",
    "strings = [d.strip() for d in data]"
   ]
  },
  {
   "cell_type": "markdown",
   "metadata": {},
   "source": [
    "Finally, I will classify each reference string into the citation style:"
   ]
  },
  {
   "cell_type": "code",
   "execution_count": 4,
   "metadata": {},
   "outputs": [],
   "source": [
    "styles = classify(strings, *model)\n",
    "existing_styles = pd.DataFrame({'string': strings, 'style': styles})"
   ]
  },
  {
   "cell_type": "markdown",
   "metadata": {},
   "source": [
    "Let's look at the fraction of each style in our dataset:"
   ]
  },
  {
   "cell_type": "code",
   "execution_count": 5,
   "metadata": {},
   "outputs": [
    {
     "data": {
      "text/html": [
       "<div>\n",
       "<style scoped>\n",
       "    .dataframe tbody tr th:only-of-type {\n",
       "        vertical-align: middle;\n",
       "    }\n",
       "\n",
       "    .dataframe tbody tr th {\n",
       "        vertical-align: top;\n",
       "    }\n",
       "\n",
       "    .dataframe thead th {\n",
       "        text-align: right;\n",
       "    }\n",
       "</style>\n",
       "<table border=\"1\" class=\"dataframe\">\n",
       "  <thead>\n",
       "    <tr style=\"text-align: right;\">\n",
       "      <th></th>\n",
       "      <th>style</th>\n",
       "      <th>counts</th>\n",
       "      <th>fraction</th>\n",
       "    </tr>\n",
       "  </thead>\n",
       "  <tbody>\n",
       "    <tr>\n",
       "      <th>0</th>\n",
       "      <td>springer-basic-author-date</td>\n",
       "      <td>6460</td>\n",
       "      <td>0.294011</td>\n",
       "    </tr>\n",
       "    <tr>\n",
       "      <th>1</th>\n",
       "      <td>apa</td>\n",
       "      <td>3078</td>\n",
       "      <td>0.140087</td>\n",
       "    </tr>\n",
       "    <tr>\n",
       "      <th>2</th>\n",
       "      <td>unknown</td>\n",
       "      <td>2363</td>\n",
       "      <td>0.107546</td>\n",
       "    </tr>\n",
       "    <tr>\n",
       "      <th>3</th>\n",
       "      <td>springer-lecture-notes-in-computer-science</td>\n",
       "      <td>1952</td>\n",
       "      <td>0.088840</td>\n",
       "    </tr>\n",
       "    <tr>\n",
       "      <th>4</th>\n",
       "      <td>vancouver</td>\n",
       "      <td>1656</td>\n",
       "      <td>0.075369</td>\n",
       "    </tr>\n",
       "    <tr>\n",
       "      <th>5</th>\n",
       "      <td>american-institute-of-physics</td>\n",
       "      <td>1143</td>\n",
       "      <td>0.052021</td>\n",
       "    </tr>\n",
       "    <tr>\n",
       "      <th>6</th>\n",
       "      <td>bmc-bioinformatics</td>\n",
       "      <td>1051</td>\n",
       "      <td>0.047834</td>\n",
       "    </tr>\n",
       "    <tr>\n",
       "      <th>7</th>\n",
       "      <td>harvard3</td>\n",
       "      <td>784</td>\n",
       "      <td>0.035682</td>\n",
       "    </tr>\n",
       "    <tr>\n",
       "      <th>8</th>\n",
       "      <td>acm-sig-proceedings</td>\n",
       "      <td>760</td>\n",
       "      <td>0.034589</td>\n",
       "    </tr>\n",
       "    <tr>\n",
       "      <th>9</th>\n",
       "      <td>ieee</td>\n",
       "      <td>567</td>\n",
       "      <td>0.025806</td>\n",
       "    </tr>\n",
       "    <tr>\n",
       "      <th>10</th>\n",
       "      <td>elsevier-with-titles</td>\n",
       "      <td>544</td>\n",
       "      <td>0.024759</td>\n",
       "    </tr>\n",
       "    <tr>\n",
       "      <th>11</th>\n",
       "      <td>american-chemical-society-with-titles</td>\n",
       "      <td>485</td>\n",
       "      <td>0.022074</td>\n",
       "    </tr>\n",
       "    <tr>\n",
       "      <th>12</th>\n",
       "      <td>american-chemical-society</td>\n",
       "      <td>464</td>\n",
       "      <td>0.021118</td>\n",
       "    </tr>\n",
       "    <tr>\n",
       "      <th>13</th>\n",
       "      <td>iso690-author-date-en</td>\n",
       "      <td>283</td>\n",
       "      <td>0.012880</td>\n",
       "    </tr>\n",
       "    <tr>\n",
       "      <th>14</th>\n",
       "      <td>elsevier-without-titles</td>\n",
       "      <td>263</td>\n",
       "      <td>0.011970</td>\n",
       "    </tr>\n",
       "    <tr>\n",
       "      <th>15</th>\n",
       "      <td>chicago-author-date</td>\n",
       "      <td>86</td>\n",
       "      <td>0.003914</td>\n",
       "    </tr>\n",
       "    <tr>\n",
       "      <th>16</th>\n",
       "      <td>american-sociological-association</td>\n",
       "      <td>25</td>\n",
       "      <td>0.001138</td>\n",
       "    </tr>\n",
       "    <tr>\n",
       "      <th>17</th>\n",
       "      <td>modern-language-association</td>\n",
       "      <td>8</td>\n",
       "      <td>0.000364</td>\n",
       "    </tr>\n",
       "  </tbody>\n",
       "</table>\n",
       "</div>"
      ],
      "text/plain": [
       "                                         style  counts  fraction\n",
       "0                   springer-basic-author-date    6460  0.294011\n",
       "1                                          apa    3078  0.140087\n",
       "2                                      unknown    2363  0.107546\n",
       "3   springer-lecture-notes-in-computer-science    1952  0.088840\n",
       "4                                    vancouver    1656  0.075369\n",
       "5                american-institute-of-physics    1143  0.052021\n",
       "6                           bmc-bioinformatics    1051  0.047834\n",
       "7                                     harvard3     784  0.035682\n",
       "8                          acm-sig-proceedings     760  0.034589\n",
       "9                                         ieee     567  0.025806\n",
       "10                        elsevier-with-titles     544  0.024759\n",
       "11       american-chemical-society-with-titles     485  0.022074\n",
       "12                   american-chemical-society     464  0.021118\n",
       "13                       iso690-author-date-en     283  0.012880\n",
       "14                     elsevier-without-titles     263  0.011970\n",
       "15                         chicago-author-date      86  0.003914\n",
       "16           american-sociological-association      25  0.001138\n",
       "17                 modern-language-association       8  0.000364"
      ]
     },
     "execution_count": 5,
     "metadata": {},
     "output_type": "execute_result"
    }
   ],
   "source": [
    "styles_distr = existing_styles.groupby(['style']).size().reset_index(name='counts') \n",
    "styles_distr['fraction'] = styles_distr['counts'] / len(strings)\n",
    "styles_distr = styles_distr.sort_values(by='counts', ascending=False).reset_index(drop=True)\n",
    "styles_distr"
   ]
  },
  {
   "cell_type": "markdown",
   "metadata": {},
   "source": [
    "The most popular style is *springer-basic-author-date* (29%), followed by *apa* (14%) and *springer-lecture-notes-in-computer-science* (9%). We also have 11% of the strings classified as \"unknown\". Let's see a sample of those strings:"
   ]
  },
  {
   "cell_type": "code",
   "execution_count": 6,
   "metadata": {},
   "outputs": [
    {
     "name": "stdout",
     "output_type": "stream",
     "text": [
      "[0] Giddens, Anthony (1988), Die Konstitution der Gesellschaft. Grundzüge einer Theorie der Strukturierung, Frankfurt/M./New York: Campus.\n",
      "[1] C-H-Bestimmung: cand. chem. K. Hess.\n",
      "[2] Muckerheide J. The health effects of low-level radiation: Science, data and corrective action 1995 26 34\n",
      "[3] World Bank 2010 How firms in eastern and central Europe are performing in the post-financial crisis world\n",
      "[4] Conover, B. (1943): The races of the Knot(C. canutus). — Condor 45, p. 226–228.\n",
      "[5] ASEAN Secretariat (2009a) ASEAN Political…\n",
      "[6] Austin, A. L. sr. andAustin, A. L. jr. (1931): Food poisoning in shore Birds. — Auk 48, p. 195–197.\n",
      "[7] MOBIL Chemical. June 22 1970. June 22, Technical Bulletin Method R‐36\n",
      "[8] H. A.Sauerand S. S.Flaschen: Proc. 7th Electronic Components Symposium, Washington, 1955, (Engineering Publ . New York , 1956) p. 41 .\n",
      "[9] 1998.Belfast Telegraph, 23 May\n"
     ]
    }
   ],
   "source": [
    "for i, s in enumerate(existing_styles.loc[existing_styles['style'] == 'unknown']\n",
    "                      .sample(10, random_state=10)['string']):\n",
    "    print('['+str(i)+']', s)"
   ]
  }
 ],
 "metadata": {
  "kernelspec": {
   "display_name": "Python 3",
   "language": "python",
   "name": "python3"
  },
  "language_info": {
   "codemirror_mode": {
    "name": "ipython",
    "version": 3
   },
   "file_extension": ".py",
   "mimetype": "text/x-python",
   "name": "python",
   "nbconvert_exporter": "python",
   "pygments_lexer": "ipython3",
   "version": "3.6.8"
  }
 },
 "nbformat": 4,
 "nbformat_minor": 2
}
